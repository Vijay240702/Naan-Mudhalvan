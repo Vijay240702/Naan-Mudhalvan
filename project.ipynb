{
  "nbformat": 4,
  "nbformat_minor": 0,
  "metadata": {
    "colab": {
      "provenance": [],
      "authorship_tag": "ABX9TyOVMVa4jFuLfZGJcI3sXhD1",
      "include_colab_link": true
    },
    "kernelspec": {
      "name": "python3",
      "display_name": "Python 3"
    },
    "language_info": {
      "name": "python"
    }
  },
  "cells": [
    {
      "cell_type": "markdown",
      "metadata": {
        "id": "view-in-github",
        "colab_type": "text"
      },
      "source": [
        "<a href=\"https://colab.research.google.com/github/Vijay240702/Naan-Mudhalvan/blob/main/project.ipynb\" target=\"_parent\"><img src=\"https://colab.research.google.com/assets/colab-badge.svg\" alt=\"Open In Colab\"/></a>"
      ]
    },
    {
      "cell_type": "code",
      "execution_count": null,
      "metadata": {
        "colab": {
          "base_uri": "https://localhost:8080/"
        },
        "id": "Mz39gpGNN_pJ",
        "outputId": "03bc5a76-4633-42e4-ba6b-033db8786880"
      },
      "outputs": [
        {
          "metadata": {
            "tags": null
          },
          "name": "stderr",
          "output_type": "stream",
          "text": [
            "[nltk_data] Downloading package stopwords to /root/nltk_data...\n",
            "[nltk_data]   Package stopwords is already up-to-date!\n"
          ]
        },
        {
          "metadata": {
            "tags": null
          },
          "name": "stdout",
          "output_type": "stream",
          "text": [
            "['.config', 'Fake[1].csv', 'True[1].csv', 'sample_data']\n",
            "\n",
            "📣 Prediction: 🔴 FAKE News\n",
            "\n",
            "📣 Prediction: 🟢 REAL News\n"
          ]
        }
      ],
      "source": [
        "# Step 1: Install & Import Libraries\n",
        "import pandas as pd\n",
        "import numpy as np\n",
        "import matplotlib.pyplot as plt\n",
        "import seaborn as sns\n",
        "import nltk\n",
        "import string\n",
        "import re\n",
        "import os\n",
        "\n",
        "from sklearn.model_selection import train_test_split\n",
        "from sklearn.feature_extraction.text import TfidfVectorizer\n",
        "from sklearn.linear_model import PassiveAggressiveClassifier\n",
        "from sklearn.metrics import accuracy_score, confusion_matrix, classification_report\n",
        "from sklearn.utils import resample\n",
        "\n",
        "nltk.download('stopwords')\n",
        "from nltk.corpus import stopwords\n",
        "stop_words = stopwords.words('english')\n",
        "\n",
        "# Step 2: Load Dataset\n",
        "print(os.listdir())  # optional, to see available files\n",
        "\n",
        "fake = pd.read_csv(\"Fake[1].csv\")\n",
        "real = pd.read_csv(\"True[1].csv\")\n",
        "\n",
        "fake['label'] = 0\n",
        "real['label'] = 1\n",
        "\n",
        "# Combine and shuffle dataset\n",
        "df = pd.concat([fake, real], axis=0).reset_index(drop=True)\n",
        "df = df[['title', 'text', 'label']]\n",
        "df['combined'] = df['title'] + ' ' + df['text']\n",
        "\n",
        "# Step 3: Text Cleaning Function\n",
        "def clean_text(text):\n",
        "    if isinstance(text, str):\n",
        "        text = text.lower()\n",
        "        text = re.sub(r'\\[.*?\\]', '', text)\n",
        "        text = re.sub(r'http\\S+|www.\\S+', '', text)\n",
        "        text = re.sub(r'<.*?>+', '', text)\n",
        "        text = re.sub(r'[%s]' % re.escape(string.punctuation), '', text)\n",
        "        text = re.sub(r'\\n', '', text)\n",
        "        text = re.sub(r'\\w*\\d\\w*', '', text)\n",
        "        text = ' '.join([word for word in text.split() if word not in stop_words])\n",
        "        return text\n",
        "    else:\n",
        "        return \"\"\n",
        "\n",
        "df['clean_text'] = df['combined'].apply(clean_text)\n",
        "\n",
        "# Step 4: Balance Dataset (Downsampling)\n",
        "df_fake = df[df['label'] == 0]\n",
        "df_real = df[df['label'] == 1]\n",
        "df_real_downsampled = resample(df_real, replace=True, n_samples=len(df_fake), random_state=42)\n",
        "df_balanced = pd.concat([df_fake, df_real_downsampled]).sample(frac=1, random_state=42).reset_index(drop=True)\n",
        "\n",
        "# Step 5: Train-Test Split & TF-IDF\n",
        "X = df_balanced['clean_text']\n",
        "y = df_balanced['label']\n",
        "\n",
        "X_train, X_test, y_train, y_test = train_test_split(X, y, test_size=0.2, random_state=42)\n",
        "\n",
        "vectorizer = TfidfVectorizer(max_df=0.7, min_df=5)\n",
        "X_train_tfidf = vectorizer.fit_transform(X_train)\n",
        "X_test_tfidf = vectorizer.transform(X_test)\n",
        "\n",
        "# Step 6: Model Training\n",
        "model = PassiveAggressiveClassifier(max_iter=1000)\n",
        "model.fit(X_train_tfidf, y_train)\n",
        "\n",
        "# Step 1 to Step 7: (Same as before, already working fine)\n",
        "\n",
        "# ⏩ ADD THIS AFTER MODEL TRAINING & EVALUATION ⏪\n",
        "\n",
        "# Step 9: Real-time Prediction Function\n",
        "def predict_news(text_input):\n",
        "    cleaned_input = clean_text(text_input)\n",
        "    tfidf_input = vectorizer.transform([cleaned_input])\n",
        "    prediction = model.predict(tfidf_input)[0]\n",
        "    return \"🟢 REAL News\" if prediction == 1 else \"🔴 FAKE News\"\n",
        "\n",
        "# Step 10: Try Custom Inputs Here ⌨\n",
        "while True:\n",
        "    user_input = input(\"\\n📰 Enter news text to classify (or type 'exit' to quit):\\n\")\n",
        "    if user_input.lower() == 'exit':\n",
        "        print(\"Exiting...\")\n",
        "        break\n",
        "    result = predict_news(user_input)\n",
        "    print(f\"\\n📣 Prediction: {result}\")\n",
        "\n",
        "\n",
        "# Step 7: Evaluation\n",
        "y_pred = model.predict(X_test_tfidf)\n",
        "\n",
        "print(\"Accuracy:\", accuracy_score(y_test, y_pred))\n",
        "print(\"\\nClassification Report:\\n\", classification_report(y_test, y_pred))\n",
        "\n",
        "# Step 8: Confusion Matrix\n",
        "cm = confusion_matrix(y_test, y_pred)\n",
        "sns.heatmap(cm, annot=True, fmt='d', cmap='Blues', xticklabels=['Fake', 'Real'], yticklabels=['Fake', 'Real'])\n",
        "plt.xlabel('Predicted')\n",
        "plt.ylabel('Actual')\n",
        "plt.title('Confusion Matrix')\n",
        "plt.show()"
      ]
    },
    {
      "cell_type": "code",
      "source": [],
      "metadata": {
        "id": "Q2RYbeRYOV0Y"
      },
      "execution_count": null,
      "outputs": []
    }
  ]
}